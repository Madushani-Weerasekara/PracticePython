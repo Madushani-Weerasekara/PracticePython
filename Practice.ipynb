{
  "nbformat": 4,
  "nbformat_minor": 0,
  "metadata": {
    "colab": {
      "provenance": [],
      "authorship_tag": "ABX9TyN1Qq8Bxj1hiWVPJdjozAu3",
      "include_colab_link": true
    },
    "kernelspec": {
      "name": "python3",
      "display_name": "Python 3"
    },
    "language_info": {
      "name": "python"
    }
  },
  "cells": [
    {
      "cell_type": "markdown",
      "metadata": {
        "id": "view-in-github",
        "colab_type": "text"
      },
      "source": [
        "<a href=\"https://colab.research.google.com/github/Madushani-Weerasekara/PracticePython/blob/main/Practice.ipynb\" target=\"_parent\"><img src=\"https://colab.research.google.com/assets/colab-badge.svg\" alt=\"Open In Colab\"/></a>"
      ]
    },
    {
      "cell_type": "markdown",
      "source": [],
      "metadata": {
        "id": "jMI6JaAMLc6n"
      }
    },
    {
      "cell_type": "markdown",
      "source": [
        "#Functions"
      ],
      "metadata": {
        "id": "voAhPM6MLfcr"
      }
    },
    {
      "cell_type": "markdown",
      "source": [
        "##Intializing and calling bassic function"
      ],
      "metadata": {
        "id": "MBbLzVEJLwsz"
      }
    },
    {
      "cell_type": "code",
      "source": [],
      "metadata": {
        "id": "JDiiY9iuMec4"
      },
      "execution_count": 35,
      "outputs": []
    },
    {
      "cell_type": "code",
      "source": [
        "def welcome():\n",
        "  print(\"Hellow guyz welcome to the python boot camp!\")"
      ],
      "metadata": {
        "id": "mb7GPCT7L5hb"
      },
      "execution_count": 36,
      "outputs": []
    },
    {
      "cell_type": "code",
      "source": [
        "welcome()"
      ],
      "metadata": {
        "colab": {
          "base_uri": "https://localhost:8080/"
        },
        "id": "qMiFZp1LLzBz",
        "outputId": "6adc820d-dc64-4504-e1e8-3443aa270f85"
      },
      "execution_count": 37,
      "outputs": [
        {
          "output_type": "stream",
          "name": "stdout",
          "text": [
            "Hellow guyz welcome to the python boot camp!\n"
          ]
        }
      ]
    },
    {
      "cell_type": "markdown",
      "source": [
        "##Intializing and calling bassic function - with argument"
      ],
      "metadata": {
        "id": "vj-FiJd-MUQO"
      }
    },
    {
      "cell_type": "code",
      "source": [
        "def welcome(a):\n",
        "  print(\"Hello {0},welcome to the python boot camp!\".format(a))"
      ],
      "metadata": {
        "id": "53CPYRM9MtNz"
      },
      "execution_count": 38,
      "outputs": []
    },
    {
      "cell_type": "code",
      "source": [
        "welcome(\"Madu\")"
      ],
      "metadata": {
        "colab": {
          "base_uri": "https://localhost:8080/"
        },
        "id": "c_pP30YhMVdU",
        "outputId": "24ef157d-10d9-4732-b7fe-b9ed3d292701"
      },
      "execution_count": 39,
      "outputs": [
        {
          "output_type": "stream",
          "name": "stdout",
          "text": [
            "Hello Madu,welcome to the python boot camp!\n"
          ]
        }
      ]
    },
    {
      "cell_type": "markdown",
      "source": [
        "##Print and Return"
      ],
      "metadata": {
        "id": "3WA9Wn0NORpY"
      }
    },
    {
      "cell_type": "code",
      "source": [
        "def add(a,b):\n",
        "  add = a+b\n",
        "  print(\"Sum of {0} and {1} is {2}\".format(a,b,add)) # just print the statement"
      ],
      "metadata": {
        "id": "Ph9378B3OZ6M"
      },
      "execution_count": 40,
      "outputs": []
    },
    {
      "cell_type": "code",
      "source": [
        "add(5,9)"
      ],
      "metadata": {
        "colab": {
          "base_uri": "https://localhost:8080/"
        },
        "id": "HXY4rBvcOXPr",
        "outputId": "b8a1456b-50f1-4ada-c58c-323bb97a7c7c"
      },
      "execution_count": 41,
      "outputs": [
        {
          "output_type": "stream",
          "name": "stdout",
          "text": [
            "Sum of 5 and 9 is 14\n"
          ]
        }
      ]
    },
    {
      "cell_type": "markdown",
      "source": [
        "###Return"
      ],
      "metadata": {
        "id": "GnbHd_xZPFRv"
      }
    },
    {
      "cell_type": "code",
      "source": [
        "def addR(a,b):\n",
        "  add = a+b\n",
        "  return add"
      ],
      "metadata": {
        "id": "fqRqTjaOPamG"
      },
      "execution_count": 42,
      "outputs": []
    },
    {
      "cell_type": "code",
      "source": [
        "addR(5,9)"
      ],
      "metadata": {
        "colab": {
          "base_uri": "https://localhost:8080/"
        },
        "id": "ewGInb43PoHX",
        "outputId": "2cfd9942-9dee-4e77-ea32-d7d9f2e20f2e"
      },
      "execution_count": 43,
      "outputs": [
        {
          "output_type": "execute_result",
          "data": {
            "text/plain": [
              "14"
            ]
          },
          "metadata": {},
          "execution_count": 43
        }
      ]
    },
    {
      "cell_type": "markdown",
      "source": [
        "##Map function"
      ],
      "metadata": {
        "id": "Kro0vQzhP4L8"
      }
    },
    {
      "cell_type": "code",
      "source": [
        "def cubeFn(num):\n",
        "  return num**3\n"
      ],
      "metadata": {
        "id": "t7Sqc6dBP_mO"
      },
      "execution_count": 44,
      "outputs": []
    },
    {
      "cell_type": "code",
      "source": [
        "a = [8,6,4,7,9,2,5]\n",
        "list(map(cubeFn,a))"
      ],
      "metadata": {
        "colab": {
          "base_uri": "https://localhost:8080/"
        },
        "id": "WYTlCt3WQ2ot",
        "outputId": "e4f675df-6968-4a46-e1dc-320877600552"
      },
      "execution_count": 45,
      "outputs": [
        {
          "output_type": "execute_result",
          "data": {
            "text/plain": [
              "[512, 216, 64, 343, 729, 8, 125]"
            ]
          },
          "metadata": {},
          "execution_count": 45
        }
      ]
    },
    {
      "cell_type": "markdown",
      "source": [
        "##Filter function"
      ],
      "metadata": {
        "id": "oI_wXLZbR8Vz"
      }
    },
    {
      "cell_type": "code",
      "source": [
        "def evenFn(num):\n",
        "  return num % 2 == 0"
      ],
      "metadata": {
        "id": "OO6xaQIdR_E-"
      },
      "execution_count": 46,
      "outputs": []
    },
    {
      "cell_type": "code",
      "source": [
        "a = [0,1,2,3,4,5,6,7,8,9,10]\n",
        "print(list(map(evenFn,a)))"
      ],
      "metadata": {
        "colab": {
          "base_uri": "https://localhost:8080/"
        },
        "id": "AjNc3xoiSRmj",
        "outputId": "e69a2680-f8cf-4db0-9145-e6eaad80eae8"
      },
      "execution_count": 47,
      "outputs": [
        {
          "output_type": "stream",
          "name": "stdout",
          "text": [
            "[True, False, True, False, True, False, True, False, True, False, True]\n"
          ]
        }
      ]
    },
    {
      "cell_type": "code",
      "source": [
        "print(list(filter(evenFn,a))) # The focus is on the when only the condition is true"
      ],
      "metadata": {
        "colab": {
          "base_uri": "https://localhost:8080/"
        },
        "id": "IfXVQ1jVTG3R",
        "outputId": "b9d5d08d-6ee9-432f-cccc-4d80d43bca31"
      },
      "execution_count": 48,
      "outputs": [
        {
          "output_type": "stream",
          "name": "stdout",
          "text": [
            "[0, 2, 4, 6, 8, 10]\n"
          ]
        }
      ]
    },
    {
      "cell_type": "markdown",
      "source": [
        "##Lambda function"
      ],
      "metadata": {
        "id": "BnsLZdT5UObw"
      }
    },
    {
      "cell_type": "code",
      "source": [
        "cubeFn = lambda num:num**3\n",
        "cubeFn(6)"
      ],
      "metadata": {
        "colab": {
          "base_uri": "https://localhost:8080/"
        },
        "id": "PrGXqEgsUcey",
        "outputId": "57a9fcd9-4b2a-4406-a649-12df79541f0c"
      },
      "execution_count": 49,
      "outputs": [
        {
          "output_type": "execute_result",
          "data": {
            "text/plain": [
              "216"
            ]
          },
          "metadata": {},
          "execution_count": 49
        }
      ]
    },
    {
      "cell_type": "markdown",
      "source": [
        "##args and *kwargs"
      ],
      "metadata": {
        "id": "yo9bQRVEVGXS"
      }
    },
    {
      "cell_type": "markdown",
      "source": [
        "###args"
      ],
      "metadata": {
        "id": "UqH_OZD0VN_0"
      }
    },
    {
      "cell_type": "code",
      "source": [
        "def add(*argg): # Here, can use any variable instead of argg\n",
        "  return sum(argg)"
      ],
      "metadata": {
        "id": "1pv16eiMVQKr"
      },
      "execution_count": 53,
      "outputs": []
    },
    {
      "cell_type": "code",
      "source": [
        "add(45,63,1,25,76,100,86,95,42,37,250,94)"
      ],
      "metadata": {
        "colab": {
          "base_uri": "https://localhost:8080/"
        },
        "id": "LeeFUUL0VuD2",
        "outputId": "0d463029-4554-4efd-e524-03d8bada23dd"
      },
      "execution_count": 54,
      "outputs": [
        {
          "output_type": "execute_result",
          "data": {
            "text/plain": [
              "914"
            ]
          },
          "metadata": {},
          "execution_count": 54
        }
      ]
    }
  ]
}