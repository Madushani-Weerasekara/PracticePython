{
  "nbformat": 4,
  "nbformat_minor": 0,
  "metadata": {
    "colab": {
      "provenance": [],
      "include_colab_link": true
    },
    "kernelspec": {
      "name": "python3",
      "display_name": "Python 3"
    },
    "language_info": {
      "name": "python"
    }
  },
  "cells": [
    {
      "cell_type": "markdown",
      "metadata": {
        "id": "view-in-github",
        "colab_type": "text"
      },
      "source": [
        "<a href=\"https://colab.research.google.com/github/Madushani-Weerasekara/PracticePython/blob/main/Practice.ipynb\" target=\"_parent\"><img src=\"https://colab.research.google.com/assets/colab-badge.svg\" alt=\"Open In Colab\"/></a>"
      ]
    },
    {
      "cell_type": "markdown",
      "source": [],
      "metadata": {
        "id": "jMI6JaAMLc6n"
      }
    },
    {
      "cell_type": "markdown",
      "source": [
        "#Functions"
      ],
      "metadata": {
        "id": "voAhPM6MLfcr"
      }
    },
    {
      "cell_type": "markdown",
      "source": [
        "##Intializing and calling bassic function"
      ],
      "metadata": {
        "id": "MBbLzVEJLwsz"
      }
    },
    {
      "cell_type": "code",
      "source": [],
      "metadata": {
        "id": "JDiiY9iuMec4"
      },
      "execution_count": 44,
      "outputs": []
    },
    {
      "cell_type": "code",
      "source": [
        "def welcome():\n",
        "  print(\"Hellow guyz welcome to the python boot camp!\")"
      ],
      "metadata": {
        "id": "mb7GPCT7L5hb"
      },
      "execution_count": 45,
      "outputs": []
    },
    {
      "cell_type": "code",
      "source": [
        "welcome()"
      ],
      "metadata": {
        "colab": {
          "base_uri": "https://localhost:8080/"
        },
        "id": "qMiFZp1LLzBz",
        "outputId": "e937e649-2bbb-41cf-e2f1-b4d4c6294177"
      },
      "execution_count": 46,
      "outputs": [
        {
          "output_type": "stream",
          "name": "stdout",
          "text": [
            "Hellow guyz welcome to the python boot camp!\n"
          ]
        }
      ]
    },
    {
      "cell_type": "markdown",
      "source": [
        "##Intializing and calling bassic function - with argument"
      ],
      "metadata": {
        "id": "vj-FiJd-MUQO"
      }
    },
    {
      "cell_type": "code",
      "source": [
        "def welcome(a):\n",
        "  print(\"Hello {0},welcome to the python boot camp!\".format(a))"
      ],
      "metadata": {
        "id": "53CPYRM9MtNz"
      },
      "execution_count": 47,
      "outputs": []
    },
    {
      "cell_type": "code",
      "source": [
        "welcome(\"Madu\")"
      ],
      "metadata": {
        "colab": {
          "base_uri": "https://localhost:8080/"
        },
        "id": "c_pP30YhMVdU",
        "outputId": "566f13b0-4686-4733-a810-07f61bc34604"
      },
      "execution_count": 48,
      "outputs": [
        {
          "output_type": "stream",
          "name": "stdout",
          "text": [
            "Hello Madu,welcome to the python boot camp!\n"
          ]
        }
      ]
    },
    {
      "cell_type": "markdown",
      "source": [
        "##Print and Return"
      ],
      "metadata": {
        "id": "3WA9Wn0NORpY"
      }
    },
    {
      "cell_type": "code",
      "source": [
        "def add(a,b):\n",
        "  add = a+b\n",
        "  print(\"Sum of {0} and {1} is {2}\".format(a,b,add)) # just print the statement. In print statement it won't save it in any memory."
      ],
      "metadata": {
        "id": "Ph9378B3OZ6M"
      },
      "execution_count": 49,
      "outputs": []
    },
    {
      "cell_type": "code",
      "source": [
        "add(5,9)"
      ],
      "metadata": {
        "colab": {
          "base_uri": "https://localhost:8080/"
        },
        "id": "HXY4rBvcOXPr",
        "outputId": "9a4ee0ce-0e46-47d6-f094-86f08d118f09"
      },
      "execution_count": 50,
      "outputs": [
        {
          "output_type": "stream",
          "name": "stdout",
          "text": [
            "Sum of 5 and 9 is 14\n"
          ]
        }
      ]
    },
    {
      "cell_type": "markdown",
      "source": [
        "###Return"
      ],
      "metadata": {
        "id": "GnbHd_xZPFRv"
      }
    },
    {
      "cell_type": "code",
      "source": [
        "def addR(a,b): # In return it will save in the memory\n",
        "  add = a+b\n",
        "  return add"
      ],
      "metadata": {
        "id": "fqRqTjaOPamG"
      },
      "execution_count": 51,
      "outputs": []
    },
    {
      "cell_type": "code",
      "source": [
        "addR(5,9)"
      ],
      "metadata": {
        "colab": {
          "base_uri": "https://localhost:8080/"
        },
        "id": "ewGInb43PoHX",
        "outputId": "eb01f38e-b1f2-4607-97f1-c2cc2925ee44"
      },
      "execution_count": 52,
      "outputs": [
        {
          "output_type": "execute_result",
          "data": {
            "text/plain": [
              "14"
            ]
          },
          "metadata": {},
          "execution_count": 52
        }
      ]
    },
    {
      "cell_type": "markdown",
      "source": [
        "##Map function"
      ],
      "metadata": {
        "id": "Kro0vQzhP4L8"
      }
    },
    {
      "cell_type": "code",
      "source": [
        "def cubeFn(num):\n",
        "  return num**3\n"
      ],
      "metadata": {
        "id": "t7Sqc6dBP_mO"
      },
      "execution_count": 53,
      "outputs": []
    },
    {
      "cell_type": "code",
      "source": [
        "a = [8,6,4,7,9,2,5]\n",
        "list(map(cubeFn,a))"
      ],
      "metadata": {
        "colab": {
          "base_uri": "https://localhost:8080/"
        },
        "id": "WYTlCt3WQ2ot",
        "outputId": "55e0670f-6162-460b-ba12-ad701d3472de"
      },
      "execution_count": 54,
      "outputs": [
        {
          "output_type": "execute_result",
          "data": {
            "text/plain": [
              "[512, 216, 64, 343, 729, 8, 125]"
            ]
          },
          "metadata": {},
          "execution_count": 54
        }
      ]
    },
    {
      "cell_type": "markdown",
      "source": [
        "##Filter function"
      ],
      "metadata": {
        "id": "oI_wXLZbR8Vz"
      }
    },
    {
      "cell_type": "code",
      "source": [
        "def evenFn(num):\n",
        "  return num % 2 == 0"
      ],
      "metadata": {
        "id": "OO6xaQIdR_E-"
      },
      "execution_count": 55,
      "outputs": []
    },
    {
      "cell_type": "code",
      "source": [
        "a = [0,1,2,3,4,5,6,7,8,9,10]\n",
        "print(list(map(evenFn,a)))"
      ],
      "metadata": {
        "colab": {
          "base_uri": "https://localhost:8080/"
        },
        "id": "AjNc3xoiSRmj",
        "outputId": "bf8c1bfc-6d1b-4b2c-b5b1-931adafa2e4c"
      },
      "execution_count": 56,
      "outputs": [
        {
          "output_type": "stream",
          "name": "stdout",
          "text": [
            "[True, False, True, False, True, False, True, False, True, False, True]\n"
          ]
        }
      ]
    },
    {
      "cell_type": "code",
      "source": [
        "print(list(filter(evenFn,a))) # The focus is on the when only the condition is true"
      ],
      "metadata": {
        "colab": {
          "base_uri": "https://localhost:8080/"
        },
        "id": "IfXVQ1jVTG3R",
        "outputId": "687d1c5d-a776-43fa-fc9d-a1dc5aa35598"
      },
      "execution_count": 57,
      "outputs": [
        {
          "output_type": "stream",
          "name": "stdout",
          "text": [
            "[0, 2, 4, 6, 8, 10]\n"
          ]
        }
      ]
    },
    {
      "cell_type": "markdown",
      "source": [
        "##Lambda function"
      ],
      "metadata": {
        "id": "BnsLZdT5UObw"
      }
    },
    {
      "cell_type": "code",
      "source": [
        "cubeFn = lambda num:num**3\n",
        "cubeFn(6)"
      ],
      "metadata": {
        "colab": {
          "base_uri": "https://localhost:8080/"
        },
        "id": "PrGXqEgsUcey",
        "outputId": "1233290a-f2d0-4559-f333-05ae76e0f699"
      },
      "execution_count": 58,
      "outputs": [
        {
          "output_type": "execute_result",
          "data": {
            "text/plain": [
              "216"
            ]
          },
          "metadata": {},
          "execution_count": 58
        }
      ]
    },
    {
      "cell_type": "markdown",
      "source": [
        "##args and *kwargs"
      ],
      "metadata": {
        "id": "yo9bQRVEVGXS"
      }
    },
    {
      "cell_type": "markdown",
      "source": [
        "###args"
      ],
      "metadata": {
        "id": "UqH_OZD0VN_0"
      }
    },
    {
      "cell_type": "code",
      "source": [],
      "metadata": {
        "id": "J4mxbWbYWZnZ"
      },
      "execution_count": 58,
      "outputs": []
    },
    {
      "cell_type": "code",
      "source": [
        "def add(*argg): # Here, can use any variable instead of argg\n",
        "  return sum(argg)"
      ],
      "metadata": {
        "id": "1pv16eiMVQKr"
      },
      "execution_count": 59,
      "outputs": []
    },
    {
      "cell_type": "code",
      "source": [
        "add(45,63,1,25,76,100,86,95,42,37,250,94) # no need of defining all the variables in the function using this function we can pass any number of arguements."
      ],
      "metadata": {
        "colab": {
          "base_uri": "https://localhost:8080/"
        },
        "id": "LeeFUUL0VuD2",
        "outputId": "3acda9f3-c77e-4daa-abc6-5a9cb16f2b69"
      },
      "execution_count": 60,
      "outputs": [
        {
          "output_type": "execute_result",
          "data": {
            "text/plain": [
              "914"
            ]
          },
          "metadata": {},
          "execution_count": 60
        }
      ]
    },
    {
      "cell_type": "markdown",
      "source": [
        "###kwargs - dictionary of key/value pairs"
      ],
      "metadata": {
        "id": "Qb32bYl3W9uM"
      }
    },
    {
      "cell_type": "code",
      "source": [
        "def func(**kwargs):\n",
        "  if 'name' in kwargs:\n",
        "    print(\"My name is {0}\".format(kwargs['name']))\n",
        "  if 'age' in kwargs:\n",
        "    print('My age is {0}'.format(kwargs['age']))\n",
        "  else:\n",
        "    print('No key found')"
      ],
      "metadata": {
        "id": "20r0q_c6XMU7"
      },
      "execution_count": 61,
      "outputs": []
    },
    {
      "cell_type": "code",
      "source": [
        "func(name = 'Madu', age = 23)"
      ],
      "metadata": {
        "colab": {
          "base_uri": "https://localhost:8080/"
        },
        "id": "xOVg7jJtXBTj",
        "outputId": "5cf615ee-ebaf-403e-acf4-88ee98e5b018"
      },
      "execution_count": 62,
      "outputs": [
        {
          "output_type": "stream",
          "name": "stdout",
          "text": [
            "My name is Madu\n",
            "My age is 23\n"
          ]
        }
      ]
    },
    {
      "cell_type": "markdown",
      "source": [
        "#Object Oriented Programming"
      ],
      "metadata": {
        "id": "8jSZuOL8SEtt"
      }
    },
    {
      "cell_type": "code",
      "source": [],
      "metadata": {
        "id": "-nDFP7jKSJuV"
      },
      "execution_count": 62,
      "outputs": []
    },
    {
      "cell_type": "markdown",
      "source": [
        "##Class"
      ],
      "metadata": {
        "id": "0o1r11aHSKKc"
      }
    },
    {
      "cell_type": "code",
      "source": [
        "class Student:\n",
        "  print('Helllow all')\n",
        "x = Student() #Object instantiation\n",
        " "
      ],
      "metadata": {
        "colab": {
          "base_uri": "https://localhost:8080/"
        },
        "id": "2Ea1YpftSMZL",
        "outputId": "b3b6fb76-82bc-48e4-e28f-f698664b67f8"
      },
      "execution_count": 63,
      "outputs": [
        {
          "output_type": "stream",
          "name": "stdout",
          "text": [
            "Helllow all\n"
          ]
        }
      ]
    },
    {
      "cell_type": "code",
      "source": [
        "print(type(x))"
      ],
      "metadata": {
        "colab": {
          "base_uri": "https://localhost:8080/"
        },
        "id": "-_lZBsyyTDNr",
        "outputId": "fdcccb0f-ff25-4bfe-d19b-95a5eba5f6f0"
      },
      "execution_count": 64,
      "outputs": [
        {
          "output_type": "stream",
          "name": "stdout",
          "text": [
            "<class '__main__.Student'>\n"
          ]
        }
      ]
    },
    {
      "cell_type": "code",
      "source": [
        "class Student:\n",
        "  def studentFn():\n",
        "    print('Hello all welcome to the session')\n",
        "Student.studentFn()"
      ],
      "metadata": {
        "colab": {
          "base_uri": "https://localhost:8080/"
        },
        "id": "M2tbZvc_Ts2h",
        "outputId": "ee09a7d7-32cd-4ee0-c1bd-fbb2824503d7"
      },
      "execution_count": 65,
      "outputs": [
        {
          "output_type": "stream",
          "name": "stdout",
          "text": [
            "Hello all welcome to the session\n"
          ]
        }
      ]
    },
    {
      "cell_type": "code",
      "source": [
        "class Student:\n",
        "  def studentFn(self):\n",
        "    print('Hellow all welcome to the session')\n",
        "x = Student()\n",
        "x.studentFn()"
      ],
      "metadata": {
        "colab": {
          "base_uri": "https://localhost:8080/"
        },
        "id": "4LqA3lo1VHYK",
        "outputId": "b966a011-17dc-4d9c-b924-0f7d45105c4c"
      },
      "execution_count": 66,
      "outputs": [
        {
          "output_type": "stream",
          "name": "stdout",
          "text": [
            "Hellow all welcome to the session\n"
          ]
        }
      ]
    },
    {
      "cell_type": "markdown",
      "source": [
        "##Class object atribute"
      ],
      "metadata": {
        "id": "MBzdKNr5ZkCG"
      }
    },
    {
      "cell_type": "code",
      "source": [
        "class Student:\n",
        "  year = 2021\n",
        "  def studentFn(self):\n",
        "    print('Hellow all welcome to the session')\n",
        "x = Student()\n",
        "x.year\n"
      ],
      "metadata": {
        "colab": {
          "base_uri": "https://localhost:8080/"
        },
        "id": "ETvs5c4qWw3q",
        "outputId": "2eaac9f5-0d2c-4950-adec-f070d7552131"
      },
      "execution_count": 67,
      "outputs": [
        {
          "output_type": "execute_result",
          "data": {
            "text/plain": [
              "2021"
            ]
          },
          "metadata": {},
          "execution_count": 67
        }
      ]
    },
    {
      "cell_type": "code",
      "source": [
        "class Student:\n",
        "  year = 2021\n",
        "  def studentFn(self):\n",
        "    print('Hellow all welcome to the session',self.year)\n",
        "x = Student()\n",
        "x.studentFn()"
      ],
      "metadata": {
        "colab": {
          "base_uri": "https://localhost:8080/"
        },
        "id": "dlzGf2zeXpAO",
        "outputId": "07f36a3f-bfb0-4f83-e0fc-de6e813323d8"
      },
      "execution_count": 68,
      "outputs": [
        {
          "output_type": "stream",
          "name": "stdout",
          "text": [
            "Hellow all welcome to the session 2021\n"
          ]
        }
      ]
    },
    {
      "cell_type": "markdown",
      "source": [
        "###Atribute of an object"
      ],
      "metadata": {
        "id": "jQ275j-rZ8xr"
      }
    },
    {
      "cell_type": "code",
      "source": [
        "class Student:\n",
        "  def __init__(self,name): # init(method) to initialize attribute os an object(constructor)\n",
        "    pass\n",
        "    self.name = name # self.name = attribute initialized\n",
        "# creating instance of Student class(object of certain class)\n",
        "elon = Student(name = 'Elon Musk') # name: argument\n",
        "print(elon.name) # accessing class attribute through object"
      ],
      "metadata": {
        "colab": {
          "base_uri": "https://localhost:8080/"
        },
        "id": "NTy87siwaAqD",
        "outputId": "0d5c9153-c09c-4b63-d382-80941d4ae2aa"
      },
      "execution_count": 69,
      "outputs": [
        {
          "output_type": "stream",
          "name": "stdout",
          "text": [
            "Elon Musk\n"
          ]
        }
      ]
    },
    {
      "cell_type": "code",
      "source": [
        "# Create multiple instance for a single class\n",
        "class Student:\n",
        "  def __init__(self,name):\n",
        "    self.name = name\n",
        "elon = Student(name = 'Elon Musk')\n",
        "champ = Student(name = 'I am Champ')\n",
        "\n",
        "print(elon.name)\n",
        "print(champ.name)"
      ],
      "metadata": {
        "colab": {
          "base_uri": "https://localhost:8080/"
        },
        "id": "ewP_Rgvq7CY8",
        "outputId": "d29e552c-8602-40f1-e400-5762fdc27a8a"
      },
      "execution_count": 70,
      "outputs": [
        {
          "output_type": "stream",
          "name": "stdout",
          "text": [
            "Elon Musk\n",
            "I am Champ\n"
          ]
        }
      ]
    },
    {
      "cell_type": "code",
      "source": [
        "class Student:\n",
        "  def __init__(self,name,age):\n",
        "    # Attribute initializing\n",
        "    self.name = name \n",
        "    self.age = age\n",
        "# create object\n",
        "elon = Student(name = 'Elon Musk',age = 40)\n",
        "\n",
        "print(elon.name)\n",
        "print(elon.age)"
      ],
      "metadata": {
        "id": "Bv0bq3Xu8Rfk",
        "outputId": "eb2dbe4a-e645-42ce-b0e3-5cdc6ece1ef4",
        "colab": {
          "base_uri": "https://localhost:8080/"
        }
      },
      "execution_count": 71,
      "outputs": [
        {
          "output_type": "stream",
          "name": "stdout",
          "text": [
            "Elon Musk\n",
            "40\n"
          ]
        }
      ]
    },
    {
      "cell_type": "code",
      "source": [
        "class Student:\n",
        "\n",
        "  total = 500\n",
        "\n",
        "  def __init__(self,marks):\n",
        "    self.marks = marks\n",
        "    print('Initialized...')\n",
        "\n",
        "  def findLoss(self):\n",
        "    return self.total - self.marks\n",
        "\n",
        "  def findPercentage(self):\n",
        "    return self.marks/self.total*100\n",
        "\n",
        "a = Student(marks = 450)\n",
        "\n",
        "print('Total Marks : ',a.total)\n",
        "print('Lossed Marks : ',a.findLoss())\n",
        "print('Percentage : ', a.findPercentage())\n"
      ],
      "metadata": {
        "outputId": "e2818726-4ac5-4d60-c6e0-e8fb54b7cfca",
        "colab": {
          "base_uri": "https://localhost:8080/"
        },
        "id": "J1rifClWBIqi"
      },
      "execution_count": 72,
      "outputs": [
        {
          "output_type": "stream",
          "name": "stdout",
          "text": [
            "Initialized...\n",
            "Total Marks :  500\n",
            "Lossed Marks :  50\n",
            "Percentage :  90.0\n"
          ]
        }
      ]
    },
    {
      "cell_type": "code",
      "source": [
        "class Student:\n",
        "  def __init__(self,name,marks,gender):\n",
        "    self.name = name\n",
        "    self.marks = marks\n",
        "    self.gender = gender\n",
        "  \n",
        "    print('Initialized...')\n",
        "\n",
        "  def __len__(self):\n",
        "    return self.marks\n",
        "\n",
        "  def __str__(self):\n",
        "    return 'name : %s | marks : %s | gender : %s |'%(self.name,self.marks,self.gender)\n",
        "\n",
        "  def __del__(self):\n",
        "    print('Student database is deleted')\n",
        "\n",
        "a = Student('Madu',450,'Female')\n",
        "\n",
        "print(a)\n",
        "print('Marks : ', len(a))\n",
        "del a\n"
      ],
      "metadata": {
        "colab": {
          "base_uri": "https://localhost:8080/"
        },
        "id": "UIHd5UkFDBm8",
        "outputId": "9dfdae89-cb62-4372-cf76-3bbda87c5bd5"
      },
      "execution_count": 73,
      "outputs": [
        {
          "output_type": "stream",
          "name": "stdout",
          "text": [
            "Initialized...\n",
            "name : Madu | marks : 450 | gender : Female |\n",
            "Marks :  450\n",
            "Student database is deleted\n"
          ]
        }
      ]
    },
    {
      "cell_type": "markdown",
      "source": [],
      "metadata": {
        "id": "fqRZYb-SQKg_"
      }
    },
    {
      "cell_type": "markdown",
      "source": [
        "#Inheritance - Helps to reduce the complexity of the program"
      ],
      "metadata": {
        "id": "pUT1PfLhQQUX"
      }
    },
    {
      "cell_type": "markdown",
      "source": [],
      "metadata": {
        "id": "Pzw_cpyxQfnv"
      }
    },
    {
      "cell_type": "markdown",
      "source": [
        "##Base class and Derived class"
      ],
      "metadata": {
        "id": "Zzudh0LiQhKf"
      }
    },
    {
      "cell_type": "code",
      "source": [
        "class Elon: # Base class\n",
        "    def __init__(self):\n",
        "      print('Profile has created')\n",
        "\n",
        "    def name(self):\n",
        "      print('Elon Musk')\n",
        "\n",
        "    def age(self):\n",
        "      print('Age is ',40)\n",
        "\n",
        "\n",
        "class SpaceX(Elon):\n",
        "  def __init__(self):\n",
        "    Elon.__init__(self)\n",
        "    Elon.name(self)\n",
        "    print('Company profile created')\n",
        "\n",
        "\n",
        "  def name(self):\n",
        "    print('SpaceX')\n",
        "\n",
        "  def type(self):\n",
        "    print('Private space travel')\n"
      ],
      "metadata": {
        "id": "GW70ft5NQlbu"
      },
      "execution_count": 74,
      "outputs": []
    },
    {
      "cell_type": "code",
      "source": [
        "a = SpaceX()\n"
      ],
      "metadata": {
        "colab": {
          "base_uri": "https://localhost:8080/"
        },
        "id": "gRDidzIxUXjW",
        "outputId": "e184b78d-212c-48d4-e264-e917f3765e94"
      },
      "execution_count": 75,
      "outputs": [
        {
          "output_type": "stream",
          "name": "stdout",
          "text": [
            "Profile has created\n",
            "Elon Musk\n",
            "Company profile created\n"
          ]
        }
      ]
    },
    {
      "cell_type": "code",
      "source": [
        "a.name() # Derived class modified the behavior of the base class"
      ],
      "metadata": {
        "colab": {
          "base_uri": "https://localhost:8080/"
        },
        "id": "zYDdmL3Z9YSU",
        "outputId": "70249237-9353-49c4-da16-75625c1389d9"
      },
      "execution_count": 76,
      "outputs": [
        {
          "output_type": "stream",
          "name": "stdout",
          "text": [
            "SpaceX\n"
          ]
        }
      ]
    },
    {
      "cell_type": "code",
      "source": [
        "a.age()"
      ],
      "metadata": {
        "colab": {
          "base_uri": "https://localhost:8080/"
        },
        "id": "aa9z3rki9cQS",
        "outputId": "d9c085c8-bac1-4204-f698-8d55bebe78c7"
      },
      "execution_count": 77,
      "outputs": [
        {
          "output_type": "stream",
          "name": "stdout",
          "text": [
            "Age is  40\n"
          ]
        }
      ]
    },
    {
      "cell_type": "markdown",
      "source": [
        "#Polymorphism "
      ],
      "metadata": {
        "id": "WVNgrN6b-ZrO"
      }
    },
    {
      "cell_type": "markdown",
      "source": [
        "#####Different object classes can share the same method name, and those methods can be called from the same place even though a different object passed in."
      ],
      "metadata": {
        "id": "cm1sqTR2TiA3"
      }
    },
    {
      "cell_type": "code",
      "source": [
        "class Elon:\n",
        "  def __init__(self,name):\n",
        "    self.name = name\n",
        "\n",
        "  def type(self):\n",
        "    return 'Enterprenure'\n",
        "\n",
        "class Sundar:\n",
        "  def __init__(self,name):\n",
        "    self.name = name\n",
        "\n",
        "  def type(self):\n",
        "    return 'CEO'\n",
        "\n",
        "person1 = Elon('Elon Musk') # name argument\n",
        "person2 = Sundar('Sundar Pichai')"
      ],
      "metadata": {
        "id": "8RNS64oqUMep"
      },
      "execution_count": 78,
      "outputs": []
    },
    {
      "cell_type": "code",
      "source": [
        "# Returning unique result of object which have same method(type)\n",
        "print(person1.name)\n",
        "print(person1.type())\n",
        " \n",
        "print(person2.name)\n",
        "print(person2.type())"
      ],
      "metadata": {
        "colab": {
          "base_uri": "https://localhost:8080/"
        },
        "id": "0H4wAiFIVYbM",
        "outputId": "9b29f9be-9a51-405b-8230-274389b9ec0e"
      },
      "execution_count": 79,
      "outputs": [
        {
          "output_type": "stream",
          "name": "stdout",
          "text": [
            "Elon Musk\n",
            "Enterprenure\n",
            "Sundar Pichai\n",
            "CEO\n"
          ]
        }
      ]
    },
    {
      "cell_type": "code",
      "source": [
        "for i in [person1,person2]:\n",
        "  print(i.name)\n",
        "  print(i.type())\n",
        "\n",
        "  print('**************')"
      ],
      "metadata": {
        "colab": {
          "base_uri": "https://localhost:8080/"
        },
        "id": "okTIa03fWZmT",
        "outputId": "c43443da-f4b9-46ff-ca16-d48c1b6cb69a"
      },
      "execution_count": 80,
      "outputs": [
        {
          "output_type": "stream",
          "name": "stdout",
          "text": [
            "Elon Musk\n",
            "Enterprenure\n",
            "**************\n",
            "Sundar Pichai\n",
            "CEO\n",
            "**************\n"
          ]
        }
      ]
    },
    {
      "cell_type": "markdown",
      "source": [
        "#Python Decorators - functions which modify the functionality of another function/calss"
      ],
      "metadata": {
        "id": "xBC4aeyO0aYG"
      }
    },
    {
      "cell_type": "code",
      "source": [
        "\"\"\"@decName\n",
        "def funcName():\n",
        "  print('Learning decorators')\n",
        "\n",
        "EQUAL TO\n",
        "\n",
        "def funcName():\n",
        "  print('python decorators')\n",
        "funcName = decName(funcName)\n",
        "\"\"\""
      ],
      "metadata": {
        "colab": {
          "base_uri": "https://localhost:8080/",
          "height": 35
        },
        "id": "te0tF9e00o4A",
        "outputId": "ef9a0c7d-c31f-4e66-f2d3-348207d53cc1"
      },
      "execution_count": 81,
      "outputs": [
        {
          "output_type": "execute_result",
          "data": {
            "text/plain": [
              "\"@decName\\ndef funcName():\\n  print('Learning decorators')\\n\\nEQUAL TO\\n\\ndef funcName():\\n  print('python decorators')\\nfuncName = decName(funcName)\\n\""
            ],
            "application/vnd.google.colaboratory.intrinsic+json": {
              "type": "string"
            }
          },
          "metadata": {},
          "execution_count": 81
        }
      ]
    },
    {
      "cell_type": "markdown",
      "source": [
        "#Function as object"
      ],
      "metadata": {
        "id": "v62aLiwb5Csh"
      }
    },
    {
      "cell_type": "code",
      "source": [
        "def welcome(a):\n",
        "  print('Hellow{0} ,welcome to python boot camp!!!'.format(a))\n"
      ],
      "metadata": {
        "id": "b14ameLp5NUr"
      },
      "execution_count": 90,
      "outputs": []
    },
    {
      "cell_type": "code",
      "source": [
        "a = welcome # No parenthesis it will call a function - FUNCTION AS OBJECT\n",
        "a('Champ')"
      ],
      "metadata": {
        "colab": {
          "base_uri": "https://localhost:8080/"
        },
        "id": "EdIZbEI55Wxg",
        "outputId": "d57cc323-1872-4020-bd9c-d6b15fe2f230"
      },
      "execution_count": 85,
      "outputs": [
        {
          "output_type": "stream",
          "name": "stdout",
          "text": [
            "HellowChamp,welcome to python boot camp!!!\n"
          ]
        }
      ]
    }
  ]
}