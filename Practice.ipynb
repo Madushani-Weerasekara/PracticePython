{
  "nbformat": 4,
  "nbformat_minor": 0,
  "metadata": {
    "colab": {
      "provenance": [],
      "authorship_tag": "ABX9TyPjiDOBv2RRqnyXQSK6brRX",
      "include_colab_link": true
    },
    "kernelspec": {
      "name": "python3",
      "display_name": "Python 3"
    },
    "language_info": {
      "name": "python"
    }
  },
  "cells": [
    {
      "cell_type": "markdown",
      "metadata": {
        "id": "view-in-github",
        "colab_type": "text"
      },
      "source": [
        "<a href=\"https://colab.research.google.com/github/Madushani-Weerasekara/PracticePython/blob/main/Practice.ipynb\" target=\"_parent\"><img src=\"https://colab.research.google.com/assets/colab-badge.svg\" alt=\"Open In Colab\"/></a>"
      ]
    },
    {
      "cell_type": "markdown",
      "source": [],
      "metadata": {
        "id": "jMI6JaAMLc6n"
      }
    },
    {
      "cell_type": "markdown",
      "source": [
        "#Functions"
      ],
      "metadata": {
        "id": "voAhPM6MLfcr"
      }
    },
    {
      "cell_type": "markdown",
      "source": [
        "##Intializing and calling bassic function"
      ],
      "metadata": {
        "id": "MBbLzVEJLwsz"
      }
    },
    {
      "cell_type": "code",
      "source": [],
      "metadata": {
        "id": "JDiiY9iuMec4"
      },
      "execution_count": null,
      "outputs": []
    },
    {
      "cell_type": "code",
      "source": [
        "def welcome():\n",
        "  print(\"Hellow guyz welcome to the python boot camp!\")"
      ],
      "metadata": {
        "id": "mb7GPCT7L5hb"
      },
      "execution_count": 11,
      "outputs": []
    },
    {
      "cell_type": "code",
      "source": [
        "welcome()"
      ],
      "metadata": {
        "colab": {
          "base_uri": "https://localhost:8080/"
        },
        "id": "qMiFZp1LLzBz",
        "outputId": "d492b133-7ddb-49fa-840d-bec12468629e"
      },
      "execution_count": 12,
      "outputs": [
        {
          "output_type": "stream",
          "name": "stdout",
          "text": [
            "Hellow guyz welcome to the python boot camp!\n"
          ]
        }
      ]
    },
    {
      "cell_type": "markdown",
      "source": [
        "##Intializing and calling bassic function - with argument"
      ],
      "metadata": {
        "id": "vj-FiJd-MUQO"
      }
    },
    {
      "cell_type": "code",
      "source": [
        "def welcome(a):\n",
        "  print(\"Hello {0},welcome to the python boot camp!\".format(a))"
      ],
      "metadata": {
        "id": "53CPYRM9MtNz"
      },
      "execution_count": 19,
      "outputs": []
    },
    {
      "cell_type": "code",
      "source": [
        "welcome(\"Madu\")"
      ],
      "metadata": {
        "colab": {
          "base_uri": "https://localhost:8080/"
        },
        "id": "c_pP30YhMVdU",
        "outputId": "a12ad611-31f8-4d33-da28-85c52a3d84fe"
      },
      "execution_count": 20,
      "outputs": [
        {
          "output_type": "stream",
          "name": "stdout",
          "text": [
            "Hello Madu,welcome to the python boot camp!\n"
          ]
        }
      ]
    },
    {
      "cell_type": "markdown",
      "source": [
        "##Print and Return"
      ],
      "metadata": {
        "id": "3WA9Wn0NORpY"
      }
    },
    {
      "cell_type": "code",
      "source": [
        "def add(a,b):\n",
        "  add = a+b\n",
        "  print(\"Sum of {0} and {1} is {2}\".format(a,b,add)) # just print the statement"
      ],
      "metadata": {
        "id": "Ph9378B3OZ6M"
      },
      "execution_count": 21,
      "outputs": []
    },
    {
      "cell_type": "code",
      "source": [
        "add(5,9)"
      ],
      "metadata": {
        "colab": {
          "base_uri": "https://localhost:8080/"
        },
        "id": "HXY4rBvcOXPr",
        "outputId": "6b1be57f-e2e2-49c6-bfbc-60d40ac4b75b"
      },
      "execution_count": 22,
      "outputs": [
        {
          "output_type": "stream",
          "name": "stdout",
          "text": [
            "Sum of 5 and 9 is 14\n"
          ]
        }
      ]
    },
    {
      "cell_type": "markdown",
      "source": [
        "###Return"
      ],
      "metadata": {
        "id": "GnbHd_xZPFRv"
      }
    },
    {
      "cell_type": "code",
      "source": [
        "def addR(a,b):\n",
        "  add = a+b\n",
        "  return add"
      ],
      "metadata": {
        "id": "fqRqTjaOPamG"
      },
      "execution_count": 23,
      "outputs": []
    },
    {
      "cell_type": "code",
      "source": [
        "addR(5,9)"
      ],
      "metadata": {
        "colab": {
          "base_uri": "https://localhost:8080/"
        },
        "id": "ewGInb43PoHX",
        "outputId": "ad90a591-e60b-4e38-f2f5-1a18b8a10d4c"
      },
      "execution_count": 24,
      "outputs": [
        {
          "output_type": "execute_result",
          "data": {
            "text/plain": [
              "14"
            ]
          },
          "metadata": {},
          "execution_count": 24
        }
      ]
    },
    {
      "cell_type": "markdown",
      "source": [
        "##Map function"
      ],
      "metadata": {
        "id": "Kro0vQzhP4L8"
      }
    },
    {
      "cell_type": "code",
      "source": [
        "def cubeFn(num):\n",
        "  return num**3\n"
      ],
      "metadata": {
        "id": "t7Sqc6dBP_mO"
      },
      "execution_count": 25,
      "outputs": []
    },
    {
      "cell_type": "code",
      "source": [
        "a = [8,6,4,7,9,2,5]\n",
        "list(map(cubeFn,a))"
      ],
      "metadata": {
        "colab": {
          "base_uri": "https://localhost:8080/"
        },
        "id": "WYTlCt3WQ2ot",
        "outputId": "9d6443cc-dec9-44c8-8b74-a8c5e7232ab7"
      },
      "execution_count": 28,
      "outputs": [
        {
          "output_type": "execute_result",
          "data": {
            "text/plain": [
              "[512, 216, 64, 343, 729, 8, 125]"
            ]
          },
          "metadata": {},
          "execution_count": 28
        }
      ]
    },
    {
      "cell_type": "markdown",
      "source": [
        "##Filter function"
      ],
      "metadata": {
        "id": "oI_wXLZbR8Vz"
      }
    },
    {
      "cell_type": "code",
      "source": [
        "def evenFn(num):\n",
        "  return num % 2 == 0"
      ],
      "metadata": {
        "id": "OO6xaQIdR_E-"
      },
      "execution_count": 32,
      "outputs": []
    },
    {
      "cell_type": "code",
      "source": [
        "a = [0,1,2,3,4,5,6,7,8,9,10]\n",
        "print(list(map(evenFn,a)))"
      ],
      "metadata": {
        "colab": {
          "base_uri": "https://localhost:8080/"
        },
        "id": "AjNc3xoiSRmj",
        "outputId": "df58b78a-7abd-4ee3-b78d-f11b2b32b712"
      },
      "execution_count": 33,
      "outputs": [
        {
          "output_type": "stream",
          "name": "stdout",
          "text": [
            "[True, False, True, False, True, False, True, False, True, False, True]\n"
          ]
        }
      ]
    }
  ]
}