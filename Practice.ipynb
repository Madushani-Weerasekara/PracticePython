{
  "nbformat": 4,
  "nbformat_minor": 0,
  "metadata": {
    "colab": {
      "provenance": [],
      "authorship_tag": "ABX9TyNvRp9onUmfwILe19YA1wtn",
      "include_colab_link": true
    },
    "kernelspec": {
      "name": "python3",
      "display_name": "Python 3"
    },
    "language_info": {
      "name": "python"
    }
  },
  "cells": [
    {
      "cell_type": "markdown",
      "metadata": {
        "id": "view-in-github",
        "colab_type": "text"
      },
      "source": [
        "<a href=\"https://colab.research.google.com/github/Madushani-Weerasekara/PracticePython/blob/main/Practice.ipynb\" target=\"_parent\"><img src=\"https://colab.research.google.com/assets/colab-badge.svg\" alt=\"Open In Colab\"/></a>"
      ]
    },
    {
      "cell_type": "markdown",
      "source": [],
      "metadata": {
        "id": "jMI6JaAMLc6n"
      }
    },
    {
      "cell_type": "markdown",
      "source": [
        "#Functions"
      ],
      "metadata": {
        "id": "voAhPM6MLfcr"
      }
    },
    {
      "cell_type": "markdown",
      "source": [
        "##Intializing and calling bassic function"
      ],
      "metadata": {
        "id": "MBbLzVEJLwsz"
      }
    },
    {
      "cell_type": "code",
      "source": [],
      "metadata": {
        "id": "JDiiY9iuMec4"
      },
      "execution_count": 55,
      "outputs": []
    },
    {
      "cell_type": "code",
      "source": [
        "def welcome():\n",
        "  print(\"Hellow guyz welcome to the python boot camp!\")"
      ],
      "metadata": {
        "id": "mb7GPCT7L5hb"
      },
      "execution_count": 56,
      "outputs": []
    },
    {
      "cell_type": "code",
      "source": [
        "welcome()"
      ],
      "metadata": {
        "colab": {
          "base_uri": "https://localhost:8080/"
        },
        "id": "qMiFZp1LLzBz",
        "outputId": "dc066c12-2e60-45ae-bc73-81cda4fcac91"
      },
      "execution_count": 57,
      "outputs": [
        {
          "output_type": "stream",
          "name": "stdout",
          "text": [
            "Hellow guyz welcome to the python boot camp!\n"
          ]
        }
      ]
    },
    {
      "cell_type": "markdown",
      "source": [
        "##Intializing and calling bassic function - with argument"
      ],
      "metadata": {
        "id": "vj-FiJd-MUQO"
      }
    },
    {
      "cell_type": "code",
      "source": [
        "def welcome(a):\n",
        "  print(\"Hello {0},welcome to the python boot camp!\".format(a))"
      ],
      "metadata": {
        "id": "53CPYRM9MtNz"
      },
      "execution_count": 58,
      "outputs": []
    },
    {
      "cell_type": "code",
      "source": [
        "welcome(\"Madu\")"
      ],
      "metadata": {
        "colab": {
          "base_uri": "https://localhost:8080/"
        },
        "id": "c_pP30YhMVdU",
        "outputId": "7dcc6df5-7169-4bf5-92bb-9dd71ffdfe7d"
      },
      "execution_count": 59,
      "outputs": [
        {
          "output_type": "stream",
          "name": "stdout",
          "text": [
            "Hello Madu,welcome to the python boot camp!\n"
          ]
        }
      ]
    },
    {
      "cell_type": "markdown",
      "source": [
        "##Print and Return"
      ],
      "metadata": {
        "id": "3WA9Wn0NORpY"
      }
    },
    {
      "cell_type": "code",
      "source": [
        "def add(a,b):\n",
        "  add = a+b\n",
        "  print(\"Sum of {0} and {1} is {2}\".format(a,b,add)) # just print the statement"
      ],
      "metadata": {
        "id": "Ph9378B3OZ6M"
      },
      "execution_count": 60,
      "outputs": []
    },
    {
      "cell_type": "code",
      "source": [
        "add(5,9)"
      ],
      "metadata": {
        "colab": {
          "base_uri": "https://localhost:8080/"
        },
        "id": "HXY4rBvcOXPr",
        "outputId": "01592df8-8ddf-4a26-b2a3-b10ea49bf405"
      },
      "execution_count": 61,
      "outputs": [
        {
          "output_type": "stream",
          "name": "stdout",
          "text": [
            "Sum of 5 and 9 is 14\n"
          ]
        }
      ]
    },
    {
      "cell_type": "markdown",
      "source": [
        "###Return"
      ],
      "metadata": {
        "id": "GnbHd_xZPFRv"
      }
    },
    {
      "cell_type": "code",
      "source": [
        "def addR(a,b):\n",
        "  add = a+b\n",
        "  return add"
      ],
      "metadata": {
        "id": "fqRqTjaOPamG"
      },
      "execution_count": 62,
      "outputs": []
    },
    {
      "cell_type": "code",
      "source": [
        "addR(5,9)"
      ],
      "metadata": {
        "colab": {
          "base_uri": "https://localhost:8080/"
        },
        "id": "ewGInb43PoHX",
        "outputId": "b154fdf1-02db-4a7d-abb7-c938a8d22228"
      },
      "execution_count": 63,
      "outputs": [
        {
          "output_type": "execute_result",
          "data": {
            "text/plain": [
              "14"
            ]
          },
          "metadata": {},
          "execution_count": 63
        }
      ]
    },
    {
      "cell_type": "markdown",
      "source": [
        "##Map function"
      ],
      "metadata": {
        "id": "Kro0vQzhP4L8"
      }
    },
    {
      "cell_type": "code",
      "source": [
        "def cubeFn(num):\n",
        "  return num**3\n"
      ],
      "metadata": {
        "id": "t7Sqc6dBP_mO"
      },
      "execution_count": 64,
      "outputs": []
    },
    {
      "cell_type": "code",
      "source": [
        "a = [8,6,4,7,9,2,5]\n",
        "list(map(cubeFn,a))"
      ],
      "metadata": {
        "colab": {
          "base_uri": "https://localhost:8080/"
        },
        "id": "WYTlCt3WQ2ot",
        "outputId": "4b328631-ed27-403f-d063-59d89c18fc10"
      },
      "execution_count": 65,
      "outputs": [
        {
          "output_type": "execute_result",
          "data": {
            "text/plain": [
              "[512, 216, 64, 343, 729, 8, 125]"
            ]
          },
          "metadata": {},
          "execution_count": 65
        }
      ]
    },
    {
      "cell_type": "markdown",
      "source": [
        "##Filter function"
      ],
      "metadata": {
        "id": "oI_wXLZbR8Vz"
      }
    },
    {
      "cell_type": "code",
      "source": [
        "def evenFn(num):\n",
        "  return num % 2 == 0"
      ],
      "metadata": {
        "id": "OO6xaQIdR_E-"
      },
      "execution_count": 66,
      "outputs": []
    },
    {
      "cell_type": "code",
      "source": [
        "a = [0,1,2,3,4,5,6,7,8,9,10]\n",
        "print(list(map(evenFn,a)))"
      ],
      "metadata": {
        "colab": {
          "base_uri": "https://localhost:8080/"
        },
        "id": "AjNc3xoiSRmj",
        "outputId": "b7fab0d4-c451-42ef-9905-3cea14460adb"
      },
      "execution_count": 67,
      "outputs": [
        {
          "output_type": "stream",
          "name": "stdout",
          "text": [
            "[True, False, True, False, True, False, True, False, True, False, True]\n"
          ]
        }
      ]
    },
    {
      "cell_type": "code",
      "source": [
        "print(list(filter(evenFn,a))) # The focus is on the when only the condition is true"
      ],
      "metadata": {
        "colab": {
          "base_uri": "https://localhost:8080/"
        },
        "id": "IfXVQ1jVTG3R",
        "outputId": "aa4573e9-8d54-44ef-a19c-3bf476a2ff17"
      },
      "execution_count": 68,
      "outputs": [
        {
          "output_type": "stream",
          "name": "stdout",
          "text": [
            "[0, 2, 4, 6, 8, 10]\n"
          ]
        }
      ]
    },
    {
      "cell_type": "markdown",
      "source": [
        "##Lambda function"
      ],
      "metadata": {
        "id": "BnsLZdT5UObw"
      }
    },
    {
      "cell_type": "code",
      "source": [
        "cubeFn = lambda num:num**3\n",
        "cubeFn(6)"
      ],
      "metadata": {
        "colab": {
          "base_uri": "https://localhost:8080/"
        },
        "id": "PrGXqEgsUcey",
        "outputId": "77c538d3-7df5-4b6c-98f6-b9bb976bcc75"
      },
      "execution_count": 69,
      "outputs": [
        {
          "output_type": "execute_result",
          "data": {
            "text/plain": [
              "216"
            ]
          },
          "metadata": {},
          "execution_count": 69
        }
      ]
    },
    {
      "cell_type": "markdown",
      "source": [
        "##args and *kwargs"
      ],
      "metadata": {
        "id": "yo9bQRVEVGXS"
      }
    },
    {
      "cell_type": "markdown",
      "source": [
        "###args"
      ],
      "metadata": {
        "id": "UqH_OZD0VN_0"
      }
    },
    {
      "cell_type": "code",
      "source": [],
      "metadata": {
        "id": "J4mxbWbYWZnZ"
      },
      "execution_count": 69,
      "outputs": []
    },
    {
      "cell_type": "code",
      "source": [
        "def add(*argg): # Here, can use any variable instead of argg\n",
        "  return sum(argg)"
      ],
      "metadata": {
        "id": "1pv16eiMVQKr"
      },
      "execution_count": 70,
      "outputs": []
    },
    {
      "cell_type": "code",
      "source": [
        "add(45,63,1,25,76,100,86,95,42,37,250,94) # no need of defining all the variables in the function using this function we can pass any number of arguements."
      ],
      "metadata": {
        "colab": {
          "base_uri": "https://localhost:8080/"
        },
        "id": "LeeFUUL0VuD2",
        "outputId": "737fcab6-74a6-46f7-ba94-e30eb74d26dc"
      },
      "execution_count": 71,
      "outputs": [
        {
          "output_type": "execute_result",
          "data": {
            "text/plain": [
              "914"
            ]
          },
          "metadata": {},
          "execution_count": 71
        }
      ]
    },
    {
      "cell_type": "markdown",
      "source": [
        "###kwargs - dictionary of key/value pairs"
      ],
      "metadata": {
        "id": "Qb32bYl3W9uM"
      }
    },
    {
      "cell_type": "code",
      "source": [
        "def func(**kwargs):\n",
        "  if 'name' in kwargs:\n",
        "    print(\"My name is {0}\".format(kwargs['name']))\n",
        "  if 'age' in kwargs:\n",
        "    print('My age is {0}'.format(kwargs['age']))\n",
        "  else:\n",
        "    print('No key found')"
      ],
      "metadata": {
        "id": "20r0q_c6XMU7"
      },
      "execution_count": 72,
      "outputs": []
    },
    {
      "cell_type": "code",
      "source": [
        "func()"
      ],
      "metadata": {
        "colab": {
          "base_uri": "https://localhost:8080/"
        },
        "id": "xOVg7jJtXBTj",
        "outputId": "526379bd-0b38-490b-f66a-f49205a720f4"
      },
      "execution_count": 73,
      "outputs": [
        {
          "output_type": "stream",
          "name": "stdout",
          "text": [
            "No key found\n"
          ]
        }
      ]
    }
  ]
}