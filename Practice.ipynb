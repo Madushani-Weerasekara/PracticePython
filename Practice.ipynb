{
  "nbformat": 4,
  "nbformat_minor": 0,
  "metadata": {
    "colab": {
      "provenance": [],
      "include_colab_link": true
    },
    "kernelspec": {
      "name": "python3",
      "display_name": "Python 3"
    },
    "language_info": {
      "name": "python"
    }
  },
  "cells": [
    {
      "cell_type": "markdown",
      "metadata": {
        "id": "view-in-github",
        "colab_type": "text"
      },
      "source": [
        "<a href=\"https://colab.research.google.com/github/Madushani-Weerasekara/PracticePython/blob/main/Practice.ipynb\" target=\"_parent\"><img src=\"https://colab.research.google.com/assets/colab-badge.svg\" alt=\"Open In Colab\"/></a>"
      ]
    },
    {
      "cell_type": "markdown",
      "source": [],
      "metadata": {
        "id": "jMI6JaAMLc6n"
      }
    },
    {
      "cell_type": "markdown",
      "source": [
        "#Functions"
      ],
      "metadata": {
        "id": "voAhPM6MLfcr"
      }
    },
    {
      "cell_type": "markdown",
      "source": [
        "##Intializing and calling bassic function"
      ],
      "metadata": {
        "id": "MBbLzVEJLwsz"
      }
    },
    {
      "cell_type": "code",
      "source": [],
      "metadata": {
        "id": "JDiiY9iuMec4"
      },
      "execution_count": null,
      "outputs": []
    },
    {
      "cell_type": "code",
      "source": [
        "def welcome():\n",
        "  print(\"Hellow guyz welcome to the python boot camp!\")"
      ],
      "metadata": {
        "id": "mb7GPCT7L5hb"
      },
      "execution_count": 1,
      "outputs": []
    },
    {
      "cell_type": "code",
      "source": [
        "welcome()"
      ],
      "metadata": {
        "colab": {
          "base_uri": "https://localhost:8080/"
        },
        "id": "qMiFZp1LLzBz",
        "outputId": "6e8c1aac-0d53-40c3-e838-327b562e7fad"
      },
      "execution_count": 2,
      "outputs": [
        {
          "output_type": "stream",
          "name": "stdout",
          "text": [
            "Hellow guyz welcome to the python boot camp!\n"
          ]
        }
      ]
    },
    {
      "cell_type": "markdown",
      "source": [
        "##Intializing and calling bassic function - with argument"
      ],
      "metadata": {
        "id": "vj-FiJd-MUQO"
      }
    },
    {
      "cell_type": "code",
      "source": [
        "def welcome(a):\n",
        "  print(\"Hello {0},welcome to the python boot camp!\".format(a))"
      ],
      "metadata": {
        "id": "53CPYRM9MtNz"
      },
      "execution_count": 3,
      "outputs": []
    },
    {
      "cell_type": "code",
      "source": [
        "welcome(\"Madu\")"
      ],
      "metadata": {
        "colab": {
          "base_uri": "https://localhost:8080/"
        },
        "id": "c_pP30YhMVdU",
        "outputId": "98346999-fb0a-40e6-fdc2-57c505d6d4b3"
      },
      "execution_count": 4,
      "outputs": [
        {
          "output_type": "stream",
          "name": "stdout",
          "text": [
            "Hello Madu,welcome to the python boot camp!\n"
          ]
        }
      ]
    },
    {
      "cell_type": "markdown",
      "source": [
        "##Print and Return"
      ],
      "metadata": {
        "id": "3WA9Wn0NORpY"
      }
    },
    {
      "cell_type": "code",
      "source": [
        "def add(a,b):\n",
        "  add = a+b\n",
        "  print(\"Sum of {0} and {1} is {2}\".format(a,b,add)) # just print the statement. In print statement it won't save it in any memory."
      ],
      "metadata": {
        "id": "Ph9378B3OZ6M"
      },
      "execution_count": 5,
      "outputs": []
    },
    {
      "cell_type": "code",
      "source": [
        "add(5,9)"
      ],
      "metadata": {
        "colab": {
          "base_uri": "https://localhost:8080/"
        },
        "id": "HXY4rBvcOXPr",
        "outputId": "9aacb400-53b7-4c35-91c2-44111e5d46fa"
      },
      "execution_count": 6,
      "outputs": [
        {
          "output_type": "stream",
          "name": "stdout",
          "text": [
            "Sum of 5 and 9 is 14\n"
          ]
        }
      ]
    },
    {
      "cell_type": "markdown",
      "source": [
        "###Return"
      ],
      "metadata": {
        "id": "GnbHd_xZPFRv"
      }
    },
    {
      "cell_type": "code",
      "source": [
        "def addR(a,b): # In return it will save in the memory\n",
        "  add = a+b\n",
        "  return add"
      ],
      "metadata": {
        "id": "fqRqTjaOPamG"
      },
      "execution_count": 7,
      "outputs": []
    },
    {
      "cell_type": "code",
      "source": [
        "addR(5,9)"
      ],
      "metadata": {
        "colab": {
          "base_uri": "https://localhost:8080/"
        },
        "id": "ewGInb43PoHX",
        "outputId": "7b6e93a9-ada9-4493-f625-627d5bdfbc6b"
      },
      "execution_count": 8,
      "outputs": [
        {
          "output_type": "execute_result",
          "data": {
            "text/plain": [
              "14"
            ]
          },
          "metadata": {},
          "execution_count": 8
        }
      ]
    },
    {
      "cell_type": "markdown",
      "source": [
        "##Map function"
      ],
      "metadata": {
        "id": "Kro0vQzhP4L8"
      }
    },
    {
      "cell_type": "code",
      "source": [
        "def cubeFn(num):\n",
        "  return num**3\n"
      ],
      "metadata": {
        "id": "t7Sqc6dBP_mO"
      },
      "execution_count": 9,
      "outputs": []
    },
    {
      "cell_type": "code",
      "source": [
        "a = [8,6,4,7,9,2,5]\n",
        "list(map(cubeFn,a))"
      ],
      "metadata": {
        "colab": {
          "base_uri": "https://localhost:8080/"
        },
        "id": "WYTlCt3WQ2ot",
        "outputId": "2c3f64fe-c5c2-4f06-e693-d9137752132a"
      },
      "execution_count": 10,
      "outputs": [
        {
          "output_type": "execute_result",
          "data": {
            "text/plain": [
              "[512, 216, 64, 343, 729, 8, 125]"
            ]
          },
          "metadata": {},
          "execution_count": 10
        }
      ]
    },
    {
      "cell_type": "markdown",
      "source": [
        "##Filter function"
      ],
      "metadata": {
        "id": "oI_wXLZbR8Vz"
      }
    },
    {
      "cell_type": "code",
      "source": [
        "def evenFn(num):\n",
        "  return num % 2 == 0"
      ],
      "metadata": {
        "id": "OO6xaQIdR_E-"
      },
      "execution_count": 11,
      "outputs": []
    },
    {
      "cell_type": "code",
      "source": [
        "a = [0,1,2,3,4,5,6,7,8,9,10]\n",
        "print(list(map(evenFn,a)))"
      ],
      "metadata": {
        "colab": {
          "base_uri": "https://localhost:8080/"
        },
        "id": "AjNc3xoiSRmj",
        "outputId": "23018663-3101-444a-ffa9-a3e6a1a00114"
      },
      "execution_count": 12,
      "outputs": [
        {
          "output_type": "stream",
          "name": "stdout",
          "text": [
            "[True, False, True, False, True, False, True, False, True, False, True]\n"
          ]
        }
      ]
    },
    {
      "cell_type": "code",
      "source": [
        "print(list(filter(evenFn,a))) # The focus is on the when only the condition is true"
      ],
      "metadata": {
        "colab": {
          "base_uri": "https://localhost:8080/"
        },
        "id": "IfXVQ1jVTG3R",
        "outputId": "668dd82f-903d-4a4a-b386-ee3181ab05c7"
      },
      "execution_count": 13,
      "outputs": [
        {
          "output_type": "stream",
          "name": "stdout",
          "text": [
            "[0, 2, 4, 6, 8, 10]\n"
          ]
        }
      ]
    },
    {
      "cell_type": "markdown",
      "source": [
        "##Lambda function"
      ],
      "metadata": {
        "id": "BnsLZdT5UObw"
      }
    },
    {
      "cell_type": "code",
      "source": [
        "cubeFn = lambda num:num**3\n",
        "cubeFn(6)"
      ],
      "metadata": {
        "colab": {
          "base_uri": "https://localhost:8080/"
        },
        "id": "PrGXqEgsUcey",
        "outputId": "0bc944f3-d9a1-498e-c4ac-0ba81a4ef882"
      },
      "execution_count": 14,
      "outputs": [
        {
          "output_type": "execute_result",
          "data": {
            "text/plain": [
              "216"
            ]
          },
          "metadata": {},
          "execution_count": 14
        }
      ]
    },
    {
      "cell_type": "markdown",
      "source": [
        "##args and *kwargs"
      ],
      "metadata": {
        "id": "yo9bQRVEVGXS"
      }
    },
    {
      "cell_type": "markdown",
      "source": [
        "###args"
      ],
      "metadata": {
        "id": "UqH_OZD0VN_0"
      }
    },
    {
      "cell_type": "code",
      "source": [],
      "metadata": {
        "id": "J4mxbWbYWZnZ"
      },
      "execution_count": 14,
      "outputs": []
    },
    {
      "cell_type": "code",
      "source": [
        "def add(*argg): # Here, can use any variable instead of argg\n",
        "  return sum(argg)"
      ],
      "metadata": {
        "id": "1pv16eiMVQKr"
      },
      "execution_count": 15,
      "outputs": []
    },
    {
      "cell_type": "code",
      "source": [
        "add(45,63,1,25,76,100,86,95,42,37,250,94) # no need of defining all the variables in the function using this function we can pass any number of arguements."
      ],
      "metadata": {
        "colab": {
          "base_uri": "https://localhost:8080/"
        },
        "id": "LeeFUUL0VuD2",
        "outputId": "9d4bcac1-44b6-40ea-ffc4-256340a170ec"
      },
      "execution_count": 16,
      "outputs": [
        {
          "output_type": "execute_result",
          "data": {
            "text/plain": [
              "914"
            ]
          },
          "metadata": {},
          "execution_count": 16
        }
      ]
    },
    {
      "cell_type": "markdown",
      "source": [
        "###kwargs - dictionary of key/value pairs"
      ],
      "metadata": {
        "id": "Qb32bYl3W9uM"
      }
    },
    {
      "cell_type": "code",
      "source": [
        "def func(**kwargs):\n",
        "  if 'name' in kwargs:\n",
        "    print(\"My name is {0}\".format(kwargs['name']))\n",
        "  if 'age' in kwargs:\n",
        "    print('My age is {0}'.format(kwargs['age']))\n",
        "  else:\n",
        "    print('No key found')"
      ],
      "metadata": {
        "id": "20r0q_c6XMU7"
      },
      "execution_count": 17,
      "outputs": []
    },
    {
      "cell_type": "code",
      "source": [
        "func(name = 'Madu', age = 23)"
      ],
      "metadata": {
        "colab": {
          "base_uri": "https://localhost:8080/"
        },
        "id": "xOVg7jJtXBTj",
        "outputId": "e8797b33-1460-4974-c632-bed158bc65d4"
      },
      "execution_count": 18,
      "outputs": [
        {
          "output_type": "stream",
          "name": "stdout",
          "text": [
            "My name is Madu\n",
            "My age is 23\n"
          ]
        }
      ]
    },
    {
      "cell_type": "markdown",
      "source": [
        "#Object Oriented Programming"
      ],
      "metadata": {
        "id": "8jSZuOL8SEtt"
      }
    },
    {
      "cell_type": "code",
      "source": [],
      "metadata": {
        "id": "-nDFP7jKSJuV"
      },
      "execution_count": 18,
      "outputs": []
    },
    {
      "cell_type": "markdown",
      "source": [
        "##Class"
      ],
      "metadata": {
        "id": "0o1r11aHSKKc"
      }
    },
    {
      "cell_type": "code",
      "source": [
        "class Student:\n",
        "  print('Helllow all')\n",
        "x = Student() #Object instantiation\n",
        " "
      ],
      "metadata": {
        "colab": {
          "base_uri": "https://localhost:8080/"
        },
        "id": "2Ea1YpftSMZL",
        "outputId": "a849b385-346b-4b82-9a3b-1f5145216c33"
      },
      "execution_count": 19,
      "outputs": [
        {
          "output_type": "stream",
          "name": "stdout",
          "text": [
            "Helllow all\n"
          ]
        }
      ]
    },
    {
      "cell_type": "code",
      "source": [
        "print(type(x))"
      ],
      "metadata": {
        "colab": {
          "base_uri": "https://localhost:8080/"
        },
        "id": "-_lZBsyyTDNr",
        "outputId": "e1972e9a-7fd9-49ac-fb8f-f021967cd124"
      },
      "execution_count": 20,
      "outputs": [
        {
          "output_type": "stream",
          "name": "stdout",
          "text": [
            "<class '__main__.Student'>\n"
          ]
        }
      ]
    },
    {
      "cell_type": "code",
      "source": [
        "class Student:\n",
        "  def studentFn():\n",
        "    print('Hello all welcome to the session')\n",
        "Student.studentFn()"
      ],
      "metadata": {
        "colab": {
          "base_uri": "https://localhost:8080/"
        },
        "id": "M2tbZvc_Ts2h",
        "outputId": "cc368576-6d6a-4d9e-bf19-dcb85746d00c"
      },
      "execution_count": 21,
      "outputs": [
        {
          "output_type": "stream",
          "name": "stdout",
          "text": [
            "Hello all welcome to the session\n"
          ]
        }
      ]
    },
    {
      "cell_type": "code",
      "source": [
        "class Student:\n",
        "  def studentFn(self):\n",
        "    print('Hellow all welcome to the session')\n",
        "x = Student()\n",
        "x.studentFn()"
      ],
      "metadata": {
        "colab": {
          "base_uri": "https://localhost:8080/"
        },
        "id": "4LqA3lo1VHYK",
        "outputId": "47b99e8e-a417-4ed3-c2fc-160e51d82f8b"
      },
      "execution_count": 22,
      "outputs": [
        {
          "output_type": "stream",
          "name": "stdout",
          "text": [
            "Hellow all welcome to the session\n"
          ]
        }
      ]
    },
    {
      "cell_type": "markdown",
      "source": [
        "##Class object atribute"
      ],
      "metadata": {
        "id": "MBzdKNr5ZkCG"
      }
    },
    {
      "cell_type": "code",
      "source": [
        "class Student:\n",
        "  year = 2021\n",
        "  def studentFn(self):\n",
        "    print('Hellow all welcome to the session')\n",
        "x = Student()\n",
        "x.year\n"
      ],
      "metadata": {
        "colab": {
          "base_uri": "https://localhost:8080/"
        },
        "id": "ETvs5c4qWw3q",
        "outputId": "89a08840-0e7a-4bda-a152-3aeec300d8b9"
      },
      "execution_count": 23,
      "outputs": [
        {
          "output_type": "execute_result",
          "data": {
            "text/plain": [
              "2021"
            ]
          },
          "metadata": {},
          "execution_count": 23
        }
      ]
    },
    {
      "cell_type": "code",
      "source": [
        "class Student:\n",
        "  year = 2021\n",
        "  def studentFn(self):\n",
        "    print('Hellow all welcome to the session',self.year)\n",
        "x = Student()\n",
        "x.studentFn()"
      ],
      "metadata": {
        "colab": {
          "base_uri": "https://localhost:8080/"
        },
        "id": "dlzGf2zeXpAO",
        "outputId": "e24ff484-bdc0-441b-ed85-77eea00a6af3"
      },
      "execution_count": 24,
      "outputs": [
        {
          "output_type": "stream",
          "name": "stdout",
          "text": [
            "Hellow all welcome to the session 2021\n"
          ]
        }
      ]
    },
    {
      "cell_type": "markdown",
      "source": [
        "###Atribute of an object"
      ],
      "metadata": {
        "id": "jQ275j-rZ8xr"
      }
    },
    {
      "cell_type": "code",
      "source": [
        "class Student:\n",
        "  def __init__(self,name): # init(method) to initialize attribute os an object(constructor)\n",
        "    pass\n",
        "    self.name = name # self.name = attribute initialized\n",
        "# creating instance of Student class(object of certain class)\n",
        "elon = Student(name = 'Elon Musk') # name: argument\n",
        "print(elon.name) # accessing class attribute through object"
      ],
      "metadata": {
        "colab": {
          "base_uri": "https://localhost:8080/"
        },
        "id": "NTy87siwaAqD",
        "outputId": "dfe2cefd-671a-4116-8a0c-8770b5261261"
      },
      "execution_count": 25,
      "outputs": [
        {
          "output_type": "stream",
          "name": "stdout",
          "text": [
            "Elon Musk\n"
          ]
        }
      ]
    },
    {
      "cell_type": "code",
      "source": [
        "# Create multiple instance for a single class\n",
        "class Student:\n",
        "  def __init__(self,name):\n",
        "    self.name = name\n",
        "elon = Student(name = 'Elon Musk')\n",
        "champ = Student(name = 'I am Champ')\n",
        "\n",
        "print(elon.name)\n",
        "print(champ.name)"
      ],
      "metadata": {
        "colab": {
          "base_uri": "https://localhost:8080/"
        },
        "id": "ewP_Rgvq7CY8",
        "outputId": "269621eb-1d79-4927-af56-864f0bea6956"
      },
      "execution_count": 26,
      "outputs": [
        {
          "output_type": "stream",
          "name": "stdout",
          "text": [
            "Elon Musk\n",
            "I am Champ\n"
          ]
        }
      ]
    },
    {
      "cell_type": "code",
      "source": [
        "class Student:\n",
        "  def __init__(self,name,age):\n",
        "    # Attribute initializing\n",
        "    self.name = name \n",
        "    self.age = age\n",
        "# create object\n",
        "elon = Student(name = 'Elon Musk',age = 40)\n",
        "\n",
        "print(elon.name)\n",
        "print(elon.age)"
      ],
      "metadata": {
        "id": "Bv0bq3Xu8Rfk",
        "outputId": "2dfba49f-0dd3-4ff7-b02c-aecf5baf4736",
        "colab": {
          "base_uri": "https://localhost:8080/"
        }
      },
      "execution_count": 27,
      "outputs": [
        {
          "output_type": "stream",
          "name": "stdout",
          "text": [
            "Elon Musk\n",
            "40\n"
          ]
        }
      ]
    },
    {
      "cell_type": "code",
      "source": [
        "class Student:\n",
        "\n",
        "  total = 500\n",
        "\n",
        "  def __init__(self,marks):\n",
        "    self.marks = marks\n",
        "    print('Initialized...')\n",
        "\n",
        "  def findLoss(self):\n",
        "    return self.total - self.marks\n",
        "\n",
        "  def findPercentage(self):\n",
        "    return self.marks/self.total*100\n",
        "\n",
        "a = Student(marks = 450)\n",
        "\n",
        "print('Total Marks : ',a.total)\n",
        "print('Lossed Marks : ',a.findLoss())\n",
        "print('Percentage : ', a.findPercentage())\n"
      ],
      "metadata": {
        "outputId": "223252d5-bcc5-44a9-cf32-409a190f637a",
        "colab": {
          "base_uri": "https://localhost:8080/"
        },
        "id": "J1rifClWBIqi"
      },
      "execution_count": 28,
      "outputs": [
        {
          "output_type": "stream",
          "name": "stdout",
          "text": [
            "Initialized...\n",
            "Total Marks :  500\n",
            "Lossed Marks :  50\n",
            "Percentage :  90.0\n"
          ]
        }
      ]
    },
    {
      "cell_type": "code",
      "source": [
        "class Student:\n",
        "  def __init__(self,name,marks,gender):\n",
        "    self.name = name\n",
        "    self.marks = marks\n",
        "    self.gender = gender\n",
        "  \n",
        "    print('Initialized...')\n",
        "\n",
        "  def __len__(self):\n",
        "    return self.marks\n",
        "\n",
        "  def __str__(self):\n",
        "    return 'name : %s | marks : %s | gender : %s |'%(self.name,self.marks,self.gender)\n",
        "\n",
        "  def __del__(self):\n",
        "    print('Student database is deleted')\n",
        "\n",
        "a = Student('Madu',450,'Female')\n",
        "\n",
        "print(a)\n",
        "print('Marks : ', len(a))\n",
        "del a\n"
      ],
      "metadata": {
        "colab": {
          "base_uri": "https://localhost:8080/"
        },
        "id": "UIHd5UkFDBm8",
        "outputId": "ddf0d1be-7a76-4445-c76d-04fa77f478ab"
      },
      "execution_count": 29,
      "outputs": [
        {
          "output_type": "stream",
          "name": "stdout",
          "text": [
            "Initialized...\n",
            "name : Madu | marks : 450 | gender : Female |\n",
            "Marks :  450\n",
            "Student database is deleted\n"
          ]
        }
      ]
    },
    {
      "cell_type": "markdown",
      "source": [],
      "metadata": {
        "id": "fqRZYb-SQKg_"
      }
    },
    {
      "cell_type": "markdown",
      "source": [
        "#Inheritance - Helps to reduce the complexity of the program"
      ],
      "metadata": {
        "id": "pUT1PfLhQQUX"
      }
    },
    {
      "cell_type": "markdown",
      "source": [],
      "metadata": {
        "id": "Pzw_cpyxQfnv"
      }
    },
    {
      "cell_type": "markdown",
      "source": [
        "##Base class and Derived class"
      ],
      "metadata": {
        "id": "Zzudh0LiQhKf"
      }
    },
    {
      "cell_type": "code",
      "source": [
        "class Elon: # Base class\n",
        "    def __init__(self):\n",
        "      print('Profile has created')\n",
        "\n",
        "    def name(self):\n",
        "      print('Elon Musk')\n",
        "\n",
        "    def age(self):\n",
        "      print('Age is ',40)\n",
        "\n",
        "\n",
        "class SpaceX(Elon):\n",
        "  def __init__(self):\n",
        "    Elon.__init__(self)\n",
        "    Elon.name(self)\n",
        "    print('Company profile created')\n",
        "\n",
        "\n",
        "  def name(self):\n",
        "    print('SpaceX')\n",
        "\n",
        "  def type(self):\n",
        "    print('Private space travel')\n"
      ],
      "metadata": {
        "id": "GW70ft5NQlbu"
      },
      "execution_count": 30,
      "outputs": []
    },
    {
      "cell_type": "code",
      "source": [
        "a = SpaceX()\n"
      ],
      "metadata": {
        "colab": {
          "base_uri": "https://localhost:8080/"
        },
        "id": "gRDidzIxUXjW",
        "outputId": "6d58d03c-8f8f-44f6-8c18-24d380dc78bd"
      },
      "execution_count": 31,
      "outputs": [
        {
          "output_type": "stream",
          "name": "stdout",
          "text": [
            "Profile has created\n",
            "Elon Musk\n",
            "Company profile created\n"
          ]
        }
      ]
    },
    {
      "cell_type": "code",
      "source": [
        "a.name() # Derived class modified the behavior of the base class"
      ],
      "metadata": {
        "colab": {
          "base_uri": "https://localhost:8080/"
        },
        "id": "zYDdmL3Z9YSU",
        "outputId": "cb308609-42f1-472b-d43b-38cd57c52aaf"
      },
      "execution_count": 32,
      "outputs": [
        {
          "output_type": "stream",
          "name": "stdout",
          "text": [
            "SpaceX\n"
          ]
        }
      ]
    },
    {
      "cell_type": "code",
      "source": [
        "a.age()"
      ],
      "metadata": {
        "colab": {
          "base_uri": "https://localhost:8080/"
        },
        "id": "aa9z3rki9cQS",
        "outputId": "a11c9d93-dded-4444-d0d9-f7807011cfeb"
      },
      "execution_count": 33,
      "outputs": [
        {
          "output_type": "stream",
          "name": "stdout",
          "text": [
            "Age is  40\n"
          ]
        }
      ]
    },
    {
      "cell_type": "markdown",
      "source": [
        "#Polymorphism "
      ],
      "metadata": {
        "id": "WVNgrN6b-ZrO"
      }
    },
    {
      "cell_type": "markdown",
      "source": [
        "#####Different object classes can share the same method name, and those methods can be called from the same place even though a different object passed in."
      ],
      "metadata": {
        "id": "cm1sqTR2TiA3"
      }
    },
    {
      "cell_type": "code",
      "source": [
        "class Elon:\n",
        "  def __init__(self,name):\n",
        "    self.name = name\n",
        "\n",
        "  def type(self):\n",
        "    return 'Enterprenure'\n",
        "\n",
        "class Sundar:\n",
        "  def __init__(self,name):\n",
        "    self.name = name\n",
        "\n",
        "  def type(self):\n",
        "    return 'CEO'\n",
        "\n",
        "person1 = Elon('Elon Musk') # name argument\n",
        "person2 = Sundar('Sundar Pichai')"
      ],
      "metadata": {
        "id": "8RNS64oqUMep"
      },
      "execution_count": 34,
      "outputs": []
    },
    {
      "cell_type": "code",
      "source": [
        "# Returning unique result of object which have same method(type)\n",
        "print(person1.name)\n",
        "print(person1.type())\n",
        " \n",
        "print(person2.name)\n",
        "print(person2.type())"
      ],
      "metadata": {
        "colab": {
          "base_uri": "https://localhost:8080/"
        },
        "id": "0H4wAiFIVYbM",
        "outputId": "857a8063-6284-46c2-e96a-4b85018b4af6"
      },
      "execution_count": 35,
      "outputs": [
        {
          "output_type": "stream",
          "name": "stdout",
          "text": [
            "Elon Musk\n",
            "Enterprenure\n",
            "Sundar Pichai\n",
            "CEO\n"
          ]
        }
      ]
    },
    {
      "cell_type": "code",
      "source": [
        "for i in [person1,person2]:\n",
        "  print(i.name)\n",
        "  print(i.type())\n",
        "\n",
        "  print('**************')"
      ],
      "metadata": {
        "colab": {
          "base_uri": "https://localhost:8080/"
        },
        "id": "okTIa03fWZmT",
        "outputId": "dc3447e1-f41a-483c-ea96-6f35a0113e9b"
      },
      "execution_count": 36,
      "outputs": [
        {
          "output_type": "stream",
          "name": "stdout",
          "text": [
            "Elon Musk\n",
            "Enterprenure\n",
            "**************\n",
            "Sundar Pichai\n",
            "CEO\n",
            "**************\n"
          ]
        }
      ]
    },
    {
      "cell_type": "markdown",
      "source": [
        "#Python Decorators - functions which modify the functionality of another function/calss"
      ],
      "metadata": {
        "id": "xBC4aeyO0aYG"
      }
    },
    {
      "cell_type": "code",
      "source": [
        "\"\"\"@decName\n",
        "def funcName():\n",
        "  print('Learning decorators')\n",
        "\n",
        "EQUAL TO\n",
        "\n",
        "def funcName():\n",
        "  print('python decorators')\n",
        "funcName = decName(funcName)\n",
        "\"\"\""
      ],
      "metadata": {
        "colab": {
          "base_uri": "https://localhost:8080/",
          "height": 35
        },
        "id": "te0tF9e00o4A",
        "outputId": "bf6aea00-f237-4d86-c461-7f1d7a9badd4"
      },
      "execution_count": 37,
      "outputs": [
        {
          "output_type": "execute_result",
          "data": {
            "text/plain": [
              "\"@decName\\ndef funcName():\\n  print('Learning decorators')\\n\\nEQUAL TO\\n\\ndef funcName():\\n  print('python decorators')\\nfuncName = decName(funcName)\\n\""
            ],
            "application/vnd.google.colaboratory.intrinsic+json": {
              "type": "string"
            }
          },
          "metadata": {},
          "execution_count": 37
        }
      ]
    },
    {
      "cell_type": "markdown",
      "source": [
        "#Function as object"
      ],
      "metadata": {
        "id": "v62aLiwb5Csh"
      }
    },
    {
      "cell_type": "code",
      "source": [
        "def welcome(a):\n",
        "  print('Hello {0} , welcome to python boot camp!!!'.format(a))\n"
      ],
      "metadata": {
        "id": "b14ameLp5NUr"
      },
      "execution_count": 38,
      "outputs": []
    },
    {
      "cell_type": "code",
      "source": [
        "a = welcome # No parenthesis it will call a function - FUNCTION AS OBJECT\n",
        "a('Champ')"
      ],
      "metadata": {
        "colab": {
          "base_uri": "https://localhost:8080/"
        },
        "id": "EdIZbEI55Wxg",
        "outputId": "ea3f7a0f-8030-4e00-dc3b-380b8a650d0e"
      },
      "execution_count": 39,
      "outputs": [
        {
          "output_type": "stream",
          "name": "stdout",
          "text": [
            "Hello Champ , welcome to python boot camp!!!\n"
          ]
        }
      ]
    },
    {
      "cell_type": "markdown",
      "source": [
        "#Function in variable "
      ],
      "metadata": {
        "id": "ldXvYWE88ZAT"
      }
    },
    {
      "cell_type": "code",
      "source": [
        "def lowerCase(text):\n",
        "  return text.lower()\n",
        "\n",
        "def upperCase(text):\n",
        "  return text.upper()\n",
        "\n",
        "def a(welcome):\n",
        "  message = welcome('Hello all, welcome to python bootcamp!!!')\n",
        "  print(message)\n",
        "\n",
        "a(lowerCase)\n",
        "a(upperCase)\n"
      ],
      "metadata": {
        "colab": {
          "base_uri": "https://localhost:8080/"
        },
        "id": "vtwDxV518d3E",
        "outputId": "078502e0-8277-4935-b8f5-2f3c611add34"
      },
      "execution_count": 40,
      "outputs": [
        {
          "output_type": "stream",
          "name": "stdout",
          "text": [
            "hello all, welcome to python bootcamp!!!\n",
            "HELLO ALL, WELCOME TO PYTHON BOOTCAMP!!!\n"
          ]
        }
      ]
    },
    {
      "cell_type": "markdown",
      "source": [
        "#Returning function from another function"
      ],
      "metadata": {
        "id": "wliFjKB2J3f9"
      }
    },
    {
      "cell_type": "code",
      "source": [
        "def addMain(a): #child\n",
        "  def addSub(b): # parent = a+b\n",
        "    print(a,b)\n",
        "    return a+b # Return of the sub function is the main functions return. Sub function return the main function's return. Example : parent say child to say apple.\n",
        "  return addSub # return of parent is return of child now - apple{child = return(parent)}\n",
        "\n",
        "addition = addMain(100)\n",
        "print(addition(75))"
      ],
      "metadata": {
        "id": "e2Jtq8I6KDkj",
        "outputId": "6a0e6333-4d2f-43bf-cffc-fcd864154b54",
        "colab": {
          "base_uri": "https://localhost:8080/"
        }
      },
      "execution_count": 41,
      "outputs": [
        {
          "output_type": "stream",
          "name": "stdout",
          "text": [
            "100 75\n",
            "175\n"
          ]
        }
      ]
    },
    {
      "cell_type": "markdown",
      "source": [
        "#Decorators - functions which modify the functions of other functions/class"
      ],
      "metadata": {
        "id": "pN_OmQO1DOrY"
      }
    }
  ]
}